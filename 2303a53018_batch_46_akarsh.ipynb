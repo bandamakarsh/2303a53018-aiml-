{
  "nbformat": 4,
  "nbformat_minor": 0,
  "metadata": {
    "colab": {
      "provenance": [],
      "mount_file_id": "12Rytg73y_js49sZcDY-wXebXcoMQ6HrY",
      "authorship_tag": "ABX9TyNf6H0TM6jFwWzXwfYMb+CI",
      "include_colab_link": true
    },
    "kernelspec": {
      "name": "python3",
      "display_name": "Python 3"
    },
    "language_info": {
      "name": "python"
    }
  },
  "cells": [
    {
      "cell_type": "markdown",
      "metadata": {
        "id": "view-in-github",
        "colab_type": "text"
      },
      "source": [
        "<a href=\"https://colab.research.google.com/github/bandamakarsh/2303a53018-aiml-/blob/main/2303a53018_batch_46_akarsh.ipynb\" target=\"_parent\"><img src=\"https://colab.research.google.com/assets/colab-badge.svg\" alt=\"Open In Colab\"/></a>"
      ]
    },
    {
      "cell_type": "code",
      "execution_count": null,
      "metadata": {
        "colab": {
          "base_uri": "https://localhost:8080/"
        },
        "id": "uOwehsb2Dr7U",
        "outputId": "f52e0bbf-ede2-43dc-fdc1-dab71595a4fe"
      },
      "outputs": [
        {
          "output_type": "stream",
          "name": "stdout",
          "text": [
            "Dataset Overview:\n",
            "<class 'pandas.core.frame.DataFrame'>\n",
            "RangeIndex: 1129 entries, 0 to 1128\n",
            "Data columns (total 16 columns):\n",
            " #   Column        Non-Null Count  Dtype  \n",
            "---  ------        --------------  -----  \n",
            " 0   stag          1129 non-null   float64\n",
            " 1   event         1129 non-null   int64  \n",
            " 2   gender        1129 non-null   object \n",
            " 3   age           1129 non-null   float64\n",
            " 4   industry      1129 non-null   object \n",
            " 5   profession    1129 non-null   object \n",
            " 6   traffic       1129 non-null   object \n",
            " 7   coach         1129 non-null   object \n",
            " 8   head_gender   1129 non-null   object \n",
            " 9   greywage      1129 non-null   object \n",
            " 10  way           1129 non-null   object \n",
            " 11  extraversion  1129 non-null   float64\n",
            " 12  independ      1129 non-null   float64\n",
            " 13  selfcontrol   1129 non-null   float64\n",
            " 14  anxiety       1129 non-null   float64\n",
            " 15  novator       1129 non-null   float64\n",
            "dtypes: float64(7), int64(1), object(8)\n",
            "memory usage: 141.2+ KB\n",
            "None\n",
            "\n",
            "Sample Data:\n",
            "        stag  event gender   age         industry  profession      traffic  \\\n",
            "0   7.030801      1      m  35.0            Banks          HR  rabrecNErab   \n",
            "1  22.965092      1      m  33.0            Banks          HR        empjs   \n",
            "2  15.934292      1      f  35.0  PowerGeneration          HR  rabrecNErab   \n",
            "3  15.934292      1      f  35.0  PowerGeneration          HR  rabrecNErab   \n",
            "4   8.410678      1      m  32.0           Retail  Commercial        youjs   \n",
            "\n",
            "  coach head_gender greywage  way  extraversion  independ  selfcontrol  \\\n",
            "0    no           f    white  bus           6.2       4.1          5.7   \n",
            "1    no           m    white  bus           6.2       4.1          5.7   \n",
            "2    no           m    white  bus           6.2       6.2          2.6   \n",
            "3    no           m    white  bus           5.4       7.6          4.9   \n",
            "4   yes           f    white  bus           3.0       4.1          8.0   \n",
            "\n",
            "   anxiety  novator  \n",
            "0      7.1      8.3  \n",
            "1      7.1      8.3  \n",
            "2      4.8      8.3  \n",
            "3      2.5      6.7  \n",
            "4      7.1      3.7  \n"
          ]
        }
      ],
      "source": [
        "import pandas as pd\n",
        "\n",
        "file_path = '/content/employee turnover.csv'\n",
        "data = pd.read_csv(file_path, encoding='latin1')\n",
        "\n",
        "print(\"Dataset Overview:\")\n",
        "print(data.info())\n",
        "print(\"\\nSample Data:\")\n",
        "print(data.head())\n"
      ]
    },
    {
      "cell_type": "markdown",
      "source": [],
      "metadata": {
        "id": "6QRBIvUwEYCk"
      }
    },
    {
      "cell_type": "code",
      "source": [
        "import matplotlib.pyplot as plt\n",
        "import seaborn as sns\n",
        "sns.boxplot(data=data, x='event', y='extraversion', palette='coolwarm')\n",
        "plt.title('Impact of Job Satisfaction (Extraversion) on Turnover')\n",
        "plt.xlabel('Turnover (1 = Left, 0 = Stayed)')\n",
        "plt.ylabel('Extraversion (Job Satisfaction Proxy)')\n",
        "plt.show()"
      ],
      "metadata": {
        "colab": {
          "base_uri": "https://localhost:8080/",
          "height": 579
        },
        "id": "QePZhRHhDzSn",
        "outputId": "336157ae-b00b-4c71-e09e-2881eb208328"
      },
      "execution_count": null,
      "outputs": [
        {
          "output_type": "stream",
          "name": "stderr",
          "text": [
            "<ipython-input-2-3030b0865141>:3: FutureWarning: \n",
            "\n",
            "Passing `palette` without assigning `hue` is deprecated and will be removed in v0.14.0. Assign the `x` variable to `hue` and set `legend=False` for the same effect.\n",
            "\n",
            "  sns.boxplot(data=data, x='event', y='extraversion', palette='coolwarm')\n"
          ]
        },
        {
          "output_type": "display_data",
          "data": {
            "text/plain": [
              "<Figure size 640x480 with 1 Axes>"
            ],
            "image/png": "[encoded data removed]"
          },
          "metadata": {}
        }
      ]
    },
    {
      "cell_type": "code",
      "source": [
        "\n",
        "categorical_cols = ['gender', 'industry', 'profession', 'traffic', 'coach', 'head_gender', 'greywage', 'way']\n",
        "\n",
        "data_encoded = pd.get_dummies(data, columns=categorical_cols, drop_first=True)\n",
        "\n",
        "print(\"\\nData After One-Hot Encoding:\")\n",
        "print(data_encoded.head())\n"
      ],
      "metadata": {
        "colab": {
          "base_uri": "https://localhost:8080/"
        },
        "id": "NdkaSsovD0Te",
        "outputId": "70febf14-0d23-4c10-db93-3b88c7ff40a0"
      },
      "execution_count": null,
      "outputs": [
        {
          "output_type": "stream",
          "name": "stdout",
          "text": [
            "\n",
            "Data After One-Hot Encoding:\n",
            "        stag  event   age  extraversion  independ  selfcontrol  anxiety  \\\n",
            "0   7.030801      1  35.0           6.2       4.1          5.7      7.1   \n",
            "1  22.965092      1  33.0           6.2       4.1          5.7      7.1   \n",
            "2  15.934292      1  35.0           6.2       6.2          2.6      4.8   \n",
            "3  15.934292      1  35.0           5.4       7.6          4.9      2.5   \n",
            "4   8.410678      1  32.0           3.0       4.1          8.0      7.1   \n",
            "\n",
            "   novator  gender_m  industry_Agriculture  ...  traffic_rabrecNErab  \\\n",
            "0      8.3      True                 False  ...                 True   \n",
            "1      8.3      True                 False  ...                False   \n",
            "2      8.3     False                 False  ...                 True   \n",
            "3      6.7     False                 False  ...                 True   \n",
            "4      3.7      True                 False  ...                False   \n",
            "\n",
            "   traffic_recNErab  traffic_referal  traffic_youjs  coach_no  coach_yes  \\\n",
            "0             False            False          False      True      False   \n",
            "1             False            False          False      True      False   \n",
            "2             False            False          False      True      False   \n",
            "3             False            False          False      True      False   \n",
            "4             False            False           True     False       True   \n",
            "\n",
            "   head_gender_m  greywage_white  way_car  way_foot  \n",
            "0          False            True    False     False  \n",
            "1           True            True    False     False  \n",
            "2           True            True    False     False  \n",
            "3           True            True    False     False  \n",
            "4          False            True    False     False  \n",
            "\n",
            "[5 rows x 51 columns]\n"
          ]
        }
      ]
    },
    {
      "cell_type": "code",
      "source": [
        "\n",
        "missing_values = data_encoded.isnull().sum()\n",
        "print(\"\\nMissing Values Count:\")\n",
        "print(missing_values)\n",
        "\n",
        "data_encoded = data_encoded.fillna(data_encoded.mean())\n",
        "\n",
        "print(\"\\nMissing Values After Imputation:\")\n",
        "print(data_encoded.isnull().sum())\n"
      ],
      "metadata": {
        "colab": {
          "base_uri": "https://localhost:8080/"
        },
        "id": "XTovKtonD6r_",
        "outputId": "c550eb5f-0a1a-4ed9-f66d-f64c76a732d6"
      },
      "execution_count": null,
      "outputs": [
        {
          "output_type": "stream",
          "name": "stdout",
          "text": [
            "\n",
            "Missing Values Count:\n",
            "stag                              0\n",
            "event                             0\n",
            "age                               0\n",
            "extraversion                      0\n",
            "independ                          0\n",
            "selfcontrol                       0\n",
            "anxiety                           0\n",
            "novator                           0\n",
            "gender_m                          0\n",
            "industry_Agriculture              0\n",
            "industry_Banks                    0\n",
            "industry_Building                 0\n",
            "industry_Consult                  0\n",
            "industry_IT                       0\n",
            "industry_Mining                   0\n",
            "industry_Pharma                   0\n",
            "industry_PowerGeneration          0\n",
            "industry_RealEstate               0\n",
            "industry_Retail                   0\n",
            "industry_State                    0\n",
            "industry_Telecom                  0\n",
            "industry_etc                      0\n",
            "industry_manufacture              0\n",
            "industry_transport                0\n",
            "profession_BusinessDevelopment    0\n",
            "profession_Commercial             0\n",
            "profession_Consult                0\n",
            "profession_Engineer               0\n",
            "profession_Finanñe                0\n",
            "profession_HR                     0\n",
            "profession_IT                     0\n",
            "profession_Law                    0\n",
            "profession_Marketing              0\n",
            "profession_PR                     0\n",
            "profession_Sales                  0\n",
            "profession_Teaching               0\n",
            "profession_etc                    0\n",
            "profession_manage                 0\n",
            "traffic_advert                    0\n",
            "traffic_empjs                     0\n",
            "traffic_friends                   0\n",
            "traffic_rabrecNErab               0\n",
            "traffic_recNErab                  0\n",
            "traffic_referal                   0\n",
            "traffic_youjs                     0\n",
            "coach_no                          0\n",
            "coach_yes                         0\n",
            "head_gender_m                     0\n",
            "greywage_white                    0\n",
            "way_car                           0\n",
            "way_foot                          0\n",
            "dtype: int64\n",
            "\n",
            "Missing Values After Imputation:\n",
            "stag                              0\n",
            "event                             0\n",
            "age                               0\n",
            "extraversion                      0\n",
            "independ                          0\n",
            "selfcontrol                       0\n",
            "anxiety                           0\n",
            "novator                           0\n",
            "gender_m                          0\n",
            "industry_Agriculture              0\n",
            "industry_Banks                    0\n",
            "industry_Building                 0\n",
            "industry_Consult                  0\n",
            "industry_IT                       0\n",
            "industry_Mining                   0\n",
            "industry_Pharma                   0\n",
            "industry_PowerGeneration          0\n",
            "industry_RealEstate               0\n",
            "industry_Retail                   0\n",
            "industry_State                    0\n",
            "industry_Telecom                  0\n",
            "industry_etc                      0\n",
            "industry_manufacture              0\n",
            "industry_transport                0\n",
            "profession_BusinessDevelopment    0\n",
            "profession_Commercial             0\n",
            "profession_Consult                0\n",
            "profession_Engineer               0\n",
            "profession_Finanñe                0\n",
            "profession_HR                     0\n",
            "profession_IT                     0\n",
            "profession_Law                    0\n",
            "profession_Marketing              0\n",
            "profession_PR                     0\n",
            "profession_Sales                  0\n",
            "profession_Teaching               0\n",
            "profession_etc                    0\n",
            "profession_manage                 0\n",
            "traffic_advert                    0\n",
            "traffic_empjs                     0\n",
            "traffic_friends                   0\n",
            "traffic_rabrecNErab               0\n",
            "traffic_recNErab                  0\n",
            "traffic_referal                   0\n",
            "traffic_youjs                     0\n",
            "coach_no                          0\n",
            "coach_yes                         0\n",
            "head_gender_m                     0\n",
            "greywage_white                    0\n",
            "way_car                           0\n",
            "way_foot                          0\n",
            "dtype: int64\n"
          ]
        }
      ]
    },
    {
      "cell_type": "code",
      "source": [
        "from sklearn.model_selection import train_test_split\n",
        "from sklearn.tree import DecisionTreeClassifier\n",
        "from sklearn.metrics import roc_auc_score, accuracy_score\n",
        "\n",
        "X = data_encoded.drop('event', axis=1)\n",
        "y = data_encoded['event']\n",
        "\n",
        "X_train, X_test, y_train, y_test = train_test_split(X, y, test_size=0.3, random_state=42)\n",
        "\n",
        "clf = DecisionTreeClassifier(random_state=42)\n",
        "clf.fit(X_train, y_train)\n",
        "\n",
        "y_pred = clf.predict(X_test)\n",
        "y_pred_proba = clf.predict_proba(X_test)[:, 1]\n",
        "\n",
        "accuracy = accuracy_score(y_test, y_pred)\n",
        "roc_auc = roc_auc_score(y_test, y_pred_proba)\n",
        "\n",
        "print(f'\\nModel Performance:')\n",
        "print(f'Accuracy: {accuracy:.2f}')\n",
        "print(f'ROC-AUC Score: {roc_auc:.2f}')\n"
      ],
      "metadata": {
        "colab": {
          "base_uri": "https://localhost:8080/"
        },
        "id": "3_QrWjTiD-wx",
        "outputId": "95855b50-9443-45d1-85c2-7264a158760c"
      },
      "execution_count": null,
      "outputs": [
        {
          "output_type": "stream",
          "name": "stdout",
          "text": [
            "\n",
            "Model Performance:\n",
            "Accuracy: 0.64\n",
            "ROC-AUC Score: 0.64\n"
          ]
        }
      ]
    }
  ]
}